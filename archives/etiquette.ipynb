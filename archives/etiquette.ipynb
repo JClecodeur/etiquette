{
 "cells": [
  {
   "cell_type": "code",
   "execution_count": 2,
   "id": "17fac5cd",
   "metadata": {},
   "outputs": [],
   "source": [
    "from fpdf import FPDF\n",
    "import os\n",
    "from PIL import Image"
   ]
  },
  {
   "cell_type": "code",
   "execution_count": 3,
   "id": "700fb4e9",
   "metadata": {},
   "outputs": [],
   "source": [
    "def redimAuto(image, centreX, centreY, wMax = 1000, hMax = 1000, redim = 0):\n",
    "    try:\n",
    "        r = (100+redim)/100\n",
    "        with Image.open(image) as im:\n",
    "            wImage, hImage = (im.size)\n",
    "        X = (wMax / wImage) * r\n",
    "        if X*hImage > hMax:\n",
    "            X = (hMax / hImage) * r\n",
    "        pdf.image(image, x = centreX - (wImage*X)/2, y = centreY - (hImage*X)/2, w = wImage*X)\n",
    "        return (wImage*X, hImage*X)\n",
    "    except Exception as e:\n",
    "        print(e)\n",
    "        return"
   ]
  },
  {
   "cell_type": "code",
   "execution_count": 11,
   "id": "04edba59",
   "metadata": {},
   "outputs": [
    {
     "name": "stdout",
     "output_type": "stream",
     "text": [
      "21\n"
     ]
    }
   ],
   "source": [
    "pdf = FPDF(orientation='P', unit='mm', format='A4')\n",
    "#pdf.set_page_background((252,212,255))\n",
    "pdf.add_page()\n",
    "pdf.set_font('Times')\n",
    "pdf.set_margins(0,0)\n",
    "pdf.set_auto_page_break(True, margin=0)\n",
    "cell_height = 297/7\n",
    "image_height = cell_height/3\n",
    "\n",
    "pdf.set_fill_color(252,212,255)\n",
    "for i in range(3*7+1):\n",
    "    pdf.rect(x=pdf.get_x(), y=pdf.get_y(),w=210/3, h=297/7, style='FD')\n",
    "    pdf.set_x((210/3)*(i%3))\n",
    "    if i!=0 and not i%3:\n",
    "        pdf.set_y(pdf.get_y() + (297/7))\n",
    "\n",
    "\n",
    "texte = \"Pure Banner 330 Gris\\n3m20 x 50m\\nBs1-d0\\nArrivage du 27/02/23\"\n",
    "line_number = texte.count(\"\\n\")+1\n",
    "label_count=0\n",
    "pdf.set_xy(0,0)\n",
    "for i in range(7):\n",
    "    y = pdf.get_y()+(cell_height - image_height if i!=0 else 0)\n",
    "    pdf.set_xy(0, y)\n",
    "    for j in range(3):\n",
    "        redimAuto(\"mediavision_blanc.png\", centreX=pdf.get_x()+210/6, centreY=pdf.get_y()+image_height/2, wMax = 210/3, hMax = 1000, redim = 0)\n",
    "        pdf.set_xy(pdf.get_x()+(210/3), y)\n",
    "    pdf.set_xy(0, (image_height if i==0 else cell_height*i+image_height))\n",
    "    for j in range(3):\n",
    "        pdf.multi_cell(txt=texte, w=(210/3), h=(cell_height-image_height)/line_number, border=False, new_x='RIGHT', new_y='TOP', align='C')\n",
    "        label_count +=1\n",
    "pdf.output(\"etiquette.pdf\")\n",
    "print(label_count)"
   ]
  },
  {
   "cell_type": "code",
   "execution_count": 3,
   "id": "48220b2f",
   "metadata": {},
   "outputs": [],
   "source": [
    "pdf = FPDF(orientation='P', unit='mm', format='A4')\n",
    "pdf.add_page()\n",
    "pdf.set_font('Times')\n",
    "pdf.set_xy(0,0)\n",
    "pdf.set_margins(0,0)\n",
    "pdf.set_auto_page_break(False, margin=0)\n",
    "for i in range(3*7):\n",
    "    texte = \"A l'intention de :\\n\\nCédric DELARUE\\nGuillaume CAYOL\\nAurélien SUCHET\\net toute l'équipe\"\n",
    "    line_number = texte.count(\"\\n\")+1\n",
    "    if not (i+1)%3:\n",
    "        newX, newY = ('LMARGIN', 'NEXT')\n",
    "    else:\n",
    "        newX, newY = ('RIGHT', 'TOP')\n",
    "    pdf.multi_cell(txt=texte, w=(210/3), h=(297/7)/line_number, border=True, new_x=newX, new_y=newY, align='C')\n",
    "pdf.output(\"etiquette.pdf\")"
   ]
  },
  {
   "cell_type": "code",
   "execution_count": 48,
   "id": "939e2781",
   "metadata": {},
   "outputs": [
    {
     "name": "stdout",
     "output_type": "stream",
     "text": [
      "0 0 0\n",
      "1 210.0 14.142857142857144\n",
      "2 210.0 56.57142857142858\n",
      "3 210.0 99.0\n",
      "4 210.0 141.42857142857144\n",
      "5 210.0 183.85714285714286\n",
      "6 210.0 226.2857142857143\n",
      "0 0 0\n",
      "1 210.0 14.142857142857144\n",
      "2 210.0 56.57142857142858\n",
      "30\n"
     ]
    }
   ],
   "source": [
    "pdf = FPDF(orientation='P', unit='mm', format='A4')\n",
    "#pdf.set_page_background((252,212,255))\n",
    "pdf.add_page()\n",
    "pdf.set_font('Times')\n",
    "pdf.set_margins(0,0)\n",
    "pdf.set_auto_page_break(True, margin=0)\n",
    "cell_height = 297/7\n",
    "image_height = cell_height/3\n",
    "pdf.set_fill_color(252,212,255)\n",
    "\n",
    "texte = \"Pure Banner 330 Gris\\n3m20 x 50m\\nBs1-d0\\nArrivage du 27/02/23\"\n",
    "line_number = texte.count(\"\\n\")+1\n",
    "label_count=0\n",
    "pdf.set_xy(0,0)\n",
    "i = 0\n",
    "for t in range(10):\n",
    "    if pdf.get_y() > 230:\n",
    "        pdf.add_page()\n",
    "        i = 0\n",
    "        pdf.set_xy(0,0)\n",
    "    print(i, pdf.get_x(), pdf.get_y())\n",
    "    \n",
    "    y = cell_height*i\n",
    "    \n",
    "    for j in range(1):\n",
    "        pdf.rect(x=0, y=y,w=210/3, h=297/7, style='FD')\n",
    "        pdf.set_x((210/3)*(j%3))\n",
    "    \n",
    "    pdf.set_xy(0, y)\n",
    "    for j in range(3):\n",
    "        redimAuto(\"mediavision_blanc.png\", centreX=pdf.get_x()+210/6, centreY=pdf.get_y()+image_height/2, wMax = 210/3, hMax = 1000, redim = 0)\n",
    "        pdf.set_xy(pdf.get_x()+(210/3), y)\n",
    "    pdf.set_xy(0, (image_height if i==0 else cell_height*i+image_height))\n",
    "    for j in range(3):\n",
    "        pdf.multi_cell(txt=texte, w=(210/3), h=(cell_height-image_height)/line_number, border=False, new_x='RIGHT', new_y='TOP', align='C')\n",
    "        label_count +=1\n",
    "    i += 1\n",
    "pdf.output(\"etiquette.pdf\")\n",
    "print(label_count)"
   ]
  },
  {
   "cell_type": "code",
   "execution_count": 69,
   "id": "64dc3eba",
   "metadata": {},
   "outputs": [
    {
     "name": "stdout",
     "output_type": "stream",
     "text": [
      "0 0 0\n",
      "1 210.0 14.142857142857144\n",
      "2 210.0 56.57142857142858\n",
      "3 210.0 99.0\n",
      "4 210.0 141.42857142857144\n",
      "5 210.0 183.85714285714286\n",
      "6 210.0 226.2857142857143\n",
      "0 0 0\n",
      "1 210.0 14.142857142857144\n",
      "2 210.0 56.57142857142858\n",
      "3 210.0 99.0\n",
      "4 210.0 141.42857142857144\n",
      "5 210.0 183.85714285714286\n",
      "6 210.0 226.2857142857143\n",
      "0 0 0\n",
      "43\n"
     ]
    }
   ],
   "source": [
    "pdf = FPDF(orientation='P', unit='mm', format='A4')\n",
    "#pdf.set_page_background((252,212,255))\n",
    "pdf.add_page()\n",
    "pdf.set_font('Times')\n",
    "pdf.set_margins(0,0)\n",
    "pdf.set_auto_page_break(True, margin=0)\n",
    "cell_height = 297/7\n",
    "cell_width = 210/3\n",
    "image_height = cell_height/3\n",
    "pdf.set_fill_color(252,212,255)\n",
    "\n",
    "texte = \"Pure Banner 330 Gris\\n3m20 x 50m\\nBs1-d0\\nArrivage du 27/02/23\"\n",
    "line_number = texte.count(\"\\n\")+1\n",
    "label_count=0\n",
    "limit = 43\n",
    "pdf.set_xy(0,0)\n",
    "i = 0\n",
    "t = 0\n",
    "while label_count<limit:\n",
    "    if pdf.get_y() > 230:\n",
    "        pdf.add_page()\n",
    "        i = 0\n",
    "        pdf.set_xy(0,0)\n",
    "    print(i, pdf.get_x(), pdf.get_y())\n",
    "    \n",
    "    y = cell_height*i\n",
    "    \n",
    "    for j in range(3):\n",
    "        x = cell_width*j\n",
    "        pdf.rect(x=x, y=y,w=210/3, h=297/7, style='FD')\n",
    "        redimAuto(\"mediavision_blanc.png\", centreX=x+210/6, centreY=y+image_height/2, wMax = 210/3, hMax = 1000, redim = 0)\n",
    "        pdf.set_xy(x=x, y=y+image_height)\n",
    "        pdf.multi_cell(txt=texte, w=(210/3), h=(cell_height-image_height)/line_number, border=False, new_x='RIGHT', new_y='TOP', align='C')\n",
    "        label_count += 1\n",
    "        if label_count >= limit:\n",
    "            break\n",
    "    i+=1\n",
    "    t+=1\n",
    "        \n",
    "pdf.output(\"etiquette.pdf\")\n",
    "print(label_count)"
   ]
  },
  {
   "cell_type": "code",
   "execution_count": 73,
   "id": "308e6a6c",
   "metadata": {},
   "outputs": [],
   "source": [
    "pdf = FPDF(orientation='P', unit='mm', format=(210/3, 297/7))\n",
    "pdf.add_page()\n",
    "pdf.set_font('Times')\n",
    "pdf.set_margins(0,0)\n",
    "cell_height = 297/7\n",
    "cell_width = 210/3\n",
    "image_height = cell_height/3\n",
    "pdf.set_xy(0,0)\n",
    "line_number = texte.count(\"\\n\")+1\n",
    "redimAuto(\"mediavision_blanc.png\", centreX=210/6, centreY=image_height/2, wMax = 210/3, hMax = 1000, redim = 0)\n",
    "pdf.set_xy(x=0, y=image_height)\n",
    "pdf.multi_cell(txt=texte, w=(210/3), h=(cell_height-image_height)/line_number, border=True, align='C')\n",
    "pdf.output(\"etiquette.pdf\")"
   ]
  },
  {
   "cell_type": "code",
   "execution_count": null,
   "id": "b6e83a42",
   "metadata": {},
   "outputs": [],
   "source": []
  }
 ],
 "metadata": {
  "kernelspec": {
   "display_name": "Python 3 (ipykernel)",
   "language": "python",
   "name": "python3"
  },
  "language_info": {
   "codemirror_mode": {
    "name": "ipython",
    "version": 3
   },
   "file_extension": ".py",
   "mimetype": "text/x-python",
   "name": "python",
   "nbconvert_exporter": "python",
   "pygments_lexer": "ipython3",
   "version": "3.9.15"
  }
 },
 "nbformat": 4,
 "nbformat_minor": 5
}
