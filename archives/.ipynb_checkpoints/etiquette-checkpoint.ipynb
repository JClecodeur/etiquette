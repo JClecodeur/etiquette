{
 "cells": [
  {
   "cell_type": "code",
   "execution_count": 213,
   "id": "17fac5cd",
   "metadata": {},
   "outputs": [],
   "source": [
    "from fpdf import FPDF\n",
    "import os\n",
    "from PIL import Image\n",
    "import pandas as pd"
   ]
  },
  {
   "cell_type": "code",
   "execution_count": 214,
   "id": "05112c4b",
   "metadata": {},
   "outputs": [],
   "source": [
    "test = pd.read_excel(\"label2022.xlsx\")"
   ]
  },
  {
   "cell_type": "code",
   "execution_count": 215,
   "id": "17f9b393",
   "metadata": {},
   "outputs": [],
   "source": [
    "test2 = test[[i for i in test.columns[14:]]].loc[~test['Unnamed: 14'].isna()]\n",
    "test2 = test2.reset_index().drop(['index'], axis='columns')[1:]"
   ]
  },
  {
   "cell_type": "code",
   "execution_count": 216,
   "id": "fbb86947",
   "metadata": {},
   "outputs": [],
   "source": [
    "label_list = []\n",
    "for j in test2.index:\n",
    "    label = \"A l'attention de :\"\n",
    "    for i in test2.columns:\n",
    "        df_text = test2[i][j]\n",
    "        if isinstance(df_text, str) and \"\\n\" in df_text:\n",
    "            company = df_text.split(\"\\n\")[0]\n",
    "        elif isinstance(df_text, str):\n",
    "            label += \"\\n\" + df_text\n",
    "    label += \"\\net aux équipes \" + company\n",
    "    label_list.append(label)"
   ]
  },
  {
   "cell_type": "code",
   "execution_count": 229,
   "id": "5be946a3",
   "metadata": {},
   "outputs": [],
   "source": [
    "class PDF(FPDF):\n",
    "    def redimAuto(self, image, centreX, centreY, wMax = 1000, hMax = 1000, redim = 0):\n",
    "        try:\n",
    "            r = (100+redim)/100\n",
    "            with Image.open(image) as im:\n",
    "                wImage, hImage = (im.size)\n",
    "            X = (wMax / wImage) * r\n",
    "            if X*hImage > hMax:\n",
    "                X = (hMax / hImage) * r\n",
    "            self.image(image, x = centreX - (wImage*X)/2, y = centreY - (hImage*X)/2, w = wImage*X)\n",
    "            return (wImage*X, hImage*X)\n",
    "        except Exception as e:\n",
    "            print(e)\n",
    "            return"
   ]
  },
  {
   "cell_type": "code",
   "execution_count": 230,
   "id": "0ba72f51",
   "metadata": {},
   "outputs": [],
   "source": [
    "def create_label():\n",
    "    global label_limit\n",
    "    pdf = PDF(orientation='P', unit='mm', format='A4')\n",
    "    pdf.copyright()\n",
    "    pdf.add_page()\n",
    "    pdf.set_font('Helvetica')\n",
    "    pdf.set_margin(3)\n",
    "\n",
    "    i = 0\n",
    "    k = 0\n",
    "    label_count = 0\n",
    "    while label_count<len(label_list):\n",
    "        if i==7:\n",
    "            pdf.add_page()\n",
    "            i = 0\n",
    "            pdf.set_xy(3,3)\n",
    "        if i==0 or i==6:\n",
    "            cell_height = 297/7 - 3\n",
    "        else:\n",
    "            cell_height = 297/7\n",
    "        \n",
    "        y = i*(297/7)+(3 if i==0 else 0)\n",
    "        \n",
    "        for j in range(3):\n",
    "            if j==0 or j==2:\n",
    "                cell_width = 67\n",
    "            elif j==1:\n",
    "                cell_width = 70\n",
    "            \n",
    "            label_text = label_list[k]\n",
    "            line_number = label_text.count(\"\\n\")+1\n",
    "            for elem in label_text.split(\"\\n\"):\n",
    "                if pdf.get_string_width(elem)+2 >= cell_width:\n",
    "                    line_number += 1\n",
    "                    \n",
    "            x = 70*j+(3 if j==0 else 0)\n",
    "            \n",
    "            pdf.set_xy(x=x, y=y)\n",
    "            \n",
    "            pdf.multi_cell(txt=label_text, w=cell_width, h=cell_height/line_number, border=False, align='C')\n",
    "            \n",
    "            label_count += 1\n",
    "            k += 1\n",
    "            if label_count >= len(label_list):\n",
    "                break\n",
    "        i+=1\n",
    "        \n",
    "    return pdf.output(\"label_certif.pdf\")"
   ]
  },
  {
   "cell_type": "code",
   "execution_count": 231,
   "id": "416e5819",
   "metadata": {},
   "outputs": [],
   "source": [
    "create_label()"
   ]
  },
  {
   "cell_type": "code",
   "execution_count": null,
   "id": "4b641ec0",
   "metadata": {},
   "outputs": [],
   "source": []
  }
 ],
 "metadata": {
  "kernelspec": {
   "display_name": "Python 3 (ipykernel)",
   "language": "python",
   "name": "python3"
  },
  "language_info": {
   "codemirror_mode": {
    "name": "ipython",
    "version": 3
   },
   "file_extension": ".py",
   "mimetype": "text/x-python",
   "name": "python",
   "nbconvert_exporter": "python",
   "pygments_lexer": "ipython3",
   "version": "3.9.15"
  }
 },
 "nbformat": 4,
 "nbformat_minor": 5
}
